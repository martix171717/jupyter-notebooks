{
 "cells": [
  {
   "cell_type": "markdown",
   "id": "5b862d7f-ab62-4ee7-bda7-11ce47760086",
   "metadata": {},
   "source": [
    "# Funkcje w Pythonie"
   ]
  },
  {
   "cell_type": "markdown",
   "id": "5c9e146a-1029-48a2-ab2d-d98e79abbca0",
   "metadata": {},
   "source": [
    "Funkcje są definiowane z użyciem słowa kluczowego def, po którym umieszcza się nazwę funkcji, a potem okrągłe nawiasy i dwukropek. Jeżeli funkcja nie wymaga informacji z zewnątrz nawiasy pozostawiamy puste, jeżeli są potrzebne to w nawiasach podajemy niezbędne argumenty. Przykład poniżej:"
   ]
  },
  {
   "cell_type": "code",
   "execution_count": 3,
   "id": "5fc1e18b-dbb3-4d7f-876f-24045c6c7f00",
   "metadata": {},
   "outputs": [],
   "source": [
    "def dzielenie(dzielna, dzielnik):\n",
    "    if(dzielnik == 0):\n",
    "        return # zakończ funkcję nic nie zwracajac\n",
    "    else:\n",
    "        return (dzielna/dzielnik)"
   ]
  },
  {
   "cell_type": "markdown",
   "id": "9a85a086-7f57-493c-bf4f-61cd5ab1bf76",
   "metadata": {},
   "source": [
    "Aby wywołać funkcję napisz nazwę funkcji razem z argumentami w nawiasach: nazwa funkcji(argument1, argument2). Jeśli funkcja nie zależy od zmiennych wystarczy wywołać nazwę zakończoną nawiasami. Przykład wywołania funkcji poniżej:"
   ]
  },
  {
   "cell_type": "code",
   "execution_count": 5,
   "id": "f6b8107b-0ced-4dcb-a093-def855fa35e1",
   "metadata": {},
   "outputs": [
    {
     "data": {
      "text/plain": [
       "5.0"
      ]
     },
     "execution_count": 5,
     "metadata": {},
     "output_type": "execute_result"
    }
   ],
   "source": [
    "dzielenie(10, 2)"
   ]
  }
 ],
 "metadata": {
  "kernelspec": {
   "display_name": "Python 3",
   "language": "python",
   "name": "python3"
  },
  "language_info": {
   "codemirror_mode": {
    "name": "ipython",
    "version": 3
   },
   "file_extension": ".py",
   "mimetype": "text/x-python",
   "name": "python",
   "nbconvert_exporter": "python",
   "pygments_lexer": "ipython3",
   "version": "3.8.8"
  }
 },
 "nbformat": 4,
 "nbformat_minor": 5
}
